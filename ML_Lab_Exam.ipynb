{
  "nbformat": 4,
  "nbformat_minor": 0,
  "metadata": {
    "colab": {
      "provenance": []
    },
    "kernelspec": {
      "name": "python3",
      "display_name": "Python 3"
    },
    "language_info": {
      "name": "python"
    }
  },
  "cells": [
    {
      "cell_type": "code",
      "source": [
        "import pandas as pd\n",
        "data = {\n",
        "    'name': ['Aman', 'Neha', 'Ravi', 'Simran', 'Vikram', 'Anita', 'Sohail', 'Divya', 'Karan', 'Preeti'],\n",
        "    'age': [19, 22, 27, 33, 38, 24, 29, 35, 20, 31],\n",
        "}\n",
        "\n",
        "def assign_income(age):\n",
        "    if 18 <= age <= 20:\n",
        "        return 7000\n",
        "    elif 21 <= age <= 25:\n",
        "        return 25000\n",
        "    elif 26 <= age <= 30:\n",
        "        return 28000\n",
        "    elif 31 <= age <= 35:\n",
        "        return 40000\n",
        "    elif 36 <= age <= 40:\n",
        "        return 45000\n",
        "\n",
        "\n",
        "data['income'] = [assign_income(age) for age in data['age']]\n",
        "\n",
        "df = pd.DataFrame(data)\n",
        "print(df)\n"
      ],
      "metadata": {
        "colab": {
          "base_uri": "https://localhost:8080/"
        },
        "id": "Axp_tY4q3MzY",
        "outputId": "03d50a17-8f46-4fb3-ed26-66e2cc2e46b8"
      },
      "execution_count": 3,
      "outputs": [
        {
          "output_type": "stream",
          "name": "stdout",
          "text": [
            "     name  age  income\n",
            "0    Aman   19    7000\n",
            "1    Neha   22   25000\n",
            "2    Ravi   27   28000\n",
            "3  Simran   33   40000\n",
            "4  Vikram   38   45000\n",
            "5   Anita   24   25000\n",
            "6  Sohail   29   28000\n",
            "7   Divya   35   40000\n",
            "8   Karan   20    7000\n",
            "9  Preeti   31   40000\n"
          ]
        }
      ]
    },
    {
      "cell_type": "code",
      "source": [
        "from sklearn.neighbors import KNeighborsRegressor\n",
        "from sklearn.metrics import mean_squared_error, mean_absolute_error, r2_score\n",
        "from sklearn.model_selection import train_test_split\n",
        "\n",
        "\n",
        "X = df[['age']]\n",
        "y = df['income']\n",
        "\n",
        "\n",
        "X_train, X_test, y_train, y_test = train_test_split(X, y, test_size=0.3, random_state=42)\n",
        "\n",
        "\n",
        "knn = KNeighborsRegressor(n_neighbors=3)\n",
        "knn.fit(X_train, y_train)\n",
        "knn_preds = knn.predict(X_test)\n",
        "\n",
        "\n",
        "print(\"KNN Performance:\")\n",
        "print(\"MAE:\", mean_absolute_error(y_test, knn_preds))\n",
        "print(\"MSE:\", mean_squared_error(y_test, knn_preds))\n",
        "print(\"R2 Score:\", r2_score(y_test, knn_preds))\n"
      ],
      "metadata": {
        "colab": {
          "base_uri": "https://localhost:8080/"
        },
        "id": "2k58sDxS4KQn",
        "outputId": "43bb68cf-7a6d-4254-eb07-31d70d21a399"
      },
      "execution_count": 4,
      "outputs": [
        {
          "output_type": "stream",
          "name": "stdout",
          "text": [
            "KNN Performance:\n",
            "MAE: 7333.333333333333\n",
            "MSE: 76000000.0\n",
            "R2 Score: -0.05555555555555558\n"
          ]
        }
      ]
    },
    {
      "cell_type": "code",
      "source": [
        "from sklearn.linear_model import LinearRegression\n",
        "\n",
        "\n",
        "lr = LinearRegression()\n",
        "lr.fit(X_train, y_train)\n",
        "lr_preds = lr.predict(X_test)\n",
        "\n",
        "\n",
        "print(\"Linear Regression Performance:\")\n",
        "print(\"MAE:\", mean_absolute_error(y_test, lr_preds))\n",
        "print(\"MSE:\", mean_squared_error(y_test, lr_preds))\n",
        "print(\"R2 Score:\", r2_score(y_test, lr_preds))\n"
      ],
      "metadata": {
        "colab": {
          "base_uri": "https://localhost:8080/"
        },
        "id": "HWRPi88G4Zau",
        "outputId": "3b0146c5-b7ff-48a9-98a4-9a7a6112eb46"
      },
      "execution_count": 5,
      "outputs": [
        {
          "output_type": "stream",
          "name": "stdout",
          "text": [
            "Linear Regression Performance:\n",
            "MAE: 6376.919883769197\n",
            "MSE: 44843062.05403458\n",
            "R2 Score: 0.3771796936939642\n"
          ]
        }
      ]
    }
  ]
}